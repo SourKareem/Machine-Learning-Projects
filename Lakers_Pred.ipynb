{
 "cells": [
  {
   "cell_type": "markdown",
   "metadata": {},
   "source": [
    "This is going to be a basketball prediction machine learning model. Use the NBA stats and try to predict outcomes of Lakers games"
   ]
  },
  {
   "cell_type": "markdown",
   "metadata": {},
   "source": [
    "# Initial prep for training dataset"
   ]
  },
  {
   "cell_type": "code",
   "execution_count": 2,
   "metadata": {},
   "outputs": [],
   "source": [
    "import pandas as pd"
   ]
  },
  {
   "cell_type": "code",
   "execution_count": 3,
   "metadata": {},
   "outputs": [],
   "source": [
    "from nba_api.stats.endpoints import leaguegamelog\n",
    "\n",
    "# Create an instance of the LeagueGameLog endpoint\n",
    "game_log = leaguegamelog.LeagueGameLog()\n",
    "\n",
    "# Retrieve the data from the API\n",
    "game_log_data = game_log.get_data_frames()[0]\n",
    "game_data = pd.DataFrame(game_log_data)\n",
    "lal_games = game_log_data[game_log_data['TEAM_ABBREVIATION'] == 'LAL']"
   ]
  },
  {
   "cell_type": "code",
   "execution_count": 4,
   "metadata": {},
   "outputs": [
    {
     "data": {
      "text/html": [
       "<div>\n",
       "<style scoped>\n",
       "    .dataframe tbody tr th:only-of-type {\n",
       "        vertical-align: middle;\n",
       "    }\n",
       "\n",
       "    .dataframe tbody tr th {\n",
       "        vertical-align: top;\n",
       "    }\n",
       "\n",
       "    .dataframe thead th {\n",
       "        text-align: right;\n",
       "    }\n",
       "</style>\n",
       "<table border=\"1\" class=\"dataframe\">\n",
       "  <thead>\n",
       "    <tr style=\"text-align: right;\">\n",
       "      <th></th>\n",
       "      <th>SEASON_ID</th>\n",
       "      <th>TEAM_ID</th>\n",
       "      <th>TEAM_ABBREVIATION</th>\n",
       "      <th>TEAM_NAME</th>\n",
       "      <th>GAME_ID</th>\n",
       "      <th>GAME_DATE</th>\n",
       "      <th>MATCHUP</th>\n",
       "      <th>WL</th>\n",
       "      <th>MIN</th>\n",
       "      <th>FGM</th>\n",
       "      <th>...</th>\n",
       "      <th>DREB</th>\n",
       "      <th>REB</th>\n",
       "      <th>AST</th>\n",
       "      <th>STL</th>\n",
       "      <th>BLK</th>\n",
       "      <th>TOV</th>\n",
       "      <th>PF</th>\n",
       "      <th>PTS</th>\n",
       "      <th>PLUS_MINUS</th>\n",
       "      <th>VIDEO_AVAILABLE</th>\n",
       "    </tr>\n",
       "  </thead>\n",
       "  <tbody>\n",
       "    <tr>\n",
       "      <th>0</th>\n",
       "      <td>22023</td>\n",
       "      <td>1610612747</td>\n",
       "      <td>LAL</td>\n",
       "      <td>Los Angeles Lakers</td>\n",
       "      <td>0022300061</td>\n",
       "      <td>2023-10-24</td>\n",
       "      <td>LAL @ DEN</td>\n",
       "      <td>L</td>\n",
       "      <td>240</td>\n",
       "      <td>41</td>\n",
       "      <td>...</td>\n",
       "      <td>31</td>\n",
       "      <td>44</td>\n",
       "      <td>23</td>\n",
       "      <td>5</td>\n",
       "      <td>4</td>\n",
       "      <td>12</td>\n",
       "      <td>18</td>\n",
       "      <td>107</td>\n",
       "      <td>-12</td>\n",
       "      <td>1</td>\n",
       "    </tr>\n",
       "    <tr>\n",
       "      <th>30</th>\n",
       "      <td>22023</td>\n",
       "      <td>1610612747</td>\n",
       "      <td>LAL</td>\n",
       "      <td>Los Angeles Lakers</td>\n",
       "      <td>0022300076</td>\n",
       "      <td>2023-10-26</td>\n",
       "      <td>LAL vs. PHX</td>\n",
       "      <td>W</td>\n",
       "      <td>240</td>\n",
       "      <td>36</td>\n",
       "      <td>...</td>\n",
       "      <td>34</td>\n",
       "      <td>42</td>\n",
       "      <td>24</td>\n",
       "      <td>14</td>\n",
       "      <td>7</td>\n",
       "      <td>16</td>\n",
       "      <td>23</td>\n",
       "      <td>100</td>\n",
       "      <td>5</td>\n",
       "      <td>1</td>\n",
       "    </tr>\n",
       "    <tr>\n",
       "      <th>76</th>\n",
       "      <td>22023</td>\n",
       "      <td>1610612747</td>\n",
       "      <td>LAL</td>\n",
       "      <td>Los Angeles Lakers</td>\n",
       "      <td>0022300100</td>\n",
       "      <td>2023-10-29</td>\n",
       "      <td>LAL @ SAC</td>\n",
       "      <td>L</td>\n",
       "      <td>265</td>\n",
       "      <td>43</td>\n",
       "      <td>...</td>\n",
       "      <td>45</td>\n",
       "      <td>53</td>\n",
       "      <td>27</td>\n",
       "      <td>4</td>\n",
       "      <td>4</td>\n",
       "      <td>12</td>\n",
       "      <td>22</td>\n",
       "      <td>127</td>\n",
       "      <td>-5</td>\n",
       "      <td>1</td>\n",
       "    </tr>\n",
       "    <tr>\n",
       "      <th>81</th>\n",
       "      <td>22023</td>\n",
       "      <td>1610612747</td>\n",
       "      <td>LAL</td>\n",
       "      <td>Los Angeles Lakers</td>\n",
       "      <td>0022300111</td>\n",
       "      <td>2023-10-30</td>\n",
       "      <td>LAL vs. ORL</td>\n",
       "      <td>W</td>\n",
       "      <td>240</td>\n",
       "      <td>42</td>\n",
       "      <td>...</td>\n",
       "      <td>37</td>\n",
       "      <td>40</td>\n",
       "      <td>28</td>\n",
       "      <td>7</td>\n",
       "      <td>10</td>\n",
       "      <td>16</td>\n",
       "      <td>17</td>\n",
       "      <td>106</td>\n",
       "      <td>3</td>\n",
       "      <td>1</td>\n",
       "    </tr>\n",
       "    <tr>\n",
       "      <th>108</th>\n",
       "      <td>22023</td>\n",
       "      <td>1610612747</td>\n",
       "      <td>LAL</td>\n",
       "      <td>Los Angeles Lakers</td>\n",
       "      <td>0022300127</td>\n",
       "      <td>2023-11-01</td>\n",
       "      <td>LAL vs. LAC</td>\n",
       "      <td>W</td>\n",
       "      <td>265</td>\n",
       "      <td>46</td>\n",
       "      <td>...</td>\n",
       "      <td>42</td>\n",
       "      <td>51</td>\n",
       "      <td>28</td>\n",
       "      <td>10</td>\n",
       "      <td>9</td>\n",
       "      <td>14</td>\n",
       "      <td>24</td>\n",
       "      <td>130</td>\n",
       "      <td>5</td>\n",
       "      <td>1</td>\n",
       "    </tr>\n",
       "  </tbody>\n",
       "</table>\n",
       "<p>5 rows × 29 columns</p>\n",
       "</div>"
      ],
      "text/plain": [
       "    SEASON_ID     TEAM_ID TEAM_ABBREVIATION           TEAM_NAME     GAME_ID  \\\n",
       "0       22023  1610612747               LAL  Los Angeles Lakers  0022300061   \n",
       "30      22023  1610612747               LAL  Los Angeles Lakers  0022300076   \n",
       "76      22023  1610612747               LAL  Los Angeles Lakers  0022300100   \n",
       "81      22023  1610612747               LAL  Los Angeles Lakers  0022300111   \n",
       "108     22023  1610612747               LAL  Los Angeles Lakers  0022300127   \n",
       "\n",
       "      GAME_DATE      MATCHUP WL  MIN  FGM  ...  DREB  REB  AST  STL  BLK  TOV  \\\n",
       "0    2023-10-24    LAL @ DEN  L  240   41  ...    31   44   23    5    4   12   \n",
       "30   2023-10-26  LAL vs. PHX  W  240   36  ...    34   42   24   14    7   16   \n",
       "76   2023-10-29    LAL @ SAC  L  265   43  ...    45   53   27    4    4   12   \n",
       "81   2023-10-30  LAL vs. ORL  W  240   42  ...    37   40   28    7   10   16   \n",
       "108  2023-11-01  LAL vs. LAC  W  265   46  ...    42   51   28   10    9   14   \n",
       "\n",
       "     PF  PTS  PLUS_MINUS  VIDEO_AVAILABLE  \n",
       "0    18  107         -12                1  \n",
       "30   23  100           5                1  \n",
       "76   22  127          -5                1  \n",
       "81   17  106           3                1  \n",
       "108  24  130           5                1  \n",
       "\n",
       "[5 rows x 29 columns]"
      ]
     },
     "execution_count": 4,
     "metadata": {},
     "output_type": "execute_result"
    }
   ],
   "source": [
    "lal_games.head()"
   ]
  },
  {
   "cell_type": "code",
   "execution_count": 5,
   "metadata": {},
   "outputs": [
    {
     "name": "stdout",
     "output_type": "stream",
     "text": [
      "<class 'pandas.core.frame.DataFrame'>\n",
      "Index: 52 entries, 0 to 1484\n",
      "Data columns (total 29 columns):\n",
      " #   Column             Non-Null Count  Dtype  \n",
      "---  ------             --------------  -----  \n",
      " 0   SEASON_ID          52 non-null     object \n",
      " 1   TEAM_ID            52 non-null     int64  \n",
      " 2   TEAM_ABBREVIATION  52 non-null     object \n",
      " 3   TEAM_NAME          52 non-null     object \n",
      " 4   GAME_ID            52 non-null     object \n",
      " 5   GAME_DATE          52 non-null     object \n",
      " 6   MATCHUP            52 non-null     object \n",
      " 7   WL                 52 non-null     object \n",
      " 8   MIN                52 non-null     int64  \n",
      " 9   FGM                52 non-null     int64  \n",
      " 10  FGA                52 non-null     int64  \n",
      " 11  FG_PCT             52 non-null     float64\n",
      " 12  FG3M               52 non-null     int64  \n",
      " 13  FG3A               52 non-null     int64  \n",
      " 14  FG3_PCT            52 non-null     float64\n",
      " 15  FTM                52 non-null     int64  \n",
      " 16  FTA                52 non-null     int64  \n",
      " 17  FT_PCT             52 non-null     float64\n",
      " 18  OREB               52 non-null     int64  \n",
      " 19  DREB               52 non-null     int64  \n",
      " 20  REB                52 non-null     int64  \n",
      " 21  AST                52 non-null     int64  \n",
      " 22  STL                52 non-null     int64  \n",
      " 23  BLK                52 non-null     int64  \n",
      " 24  TOV                52 non-null     int64  \n",
      " 25  PF                 52 non-null     int64  \n",
      " 26  PTS                52 non-null     int64  \n",
      " 27  PLUS_MINUS         52 non-null     int64  \n",
      " 28  VIDEO_AVAILABLE    52 non-null     int64  \n",
      "dtypes: float64(3), int64(19), object(7)\n",
      "memory usage: 12.2+ KB\n"
     ]
    }
   ],
   "source": [
    "lal_games.info()"
   ]
  },
  {
   "cell_type": "code",
   "execution_count": 6,
   "metadata": {},
   "outputs": [],
   "source": [
    "lal_games = lal_games.drop(['SEASON_ID', 'TEAM_ID', 'TEAM_ABBREVIATION', 'TEAM_NAME', 'GAME_ID', 'GAME_DATE', 'MIN', 'PLUS_MINUS', 'VIDEO_AVAILABLE'], axis=1)"
   ]
  },
  {
   "cell_type": "code",
   "execution_count": 7,
   "metadata": {},
   "outputs": [
    {
     "name": "stdout",
     "output_type": "stream",
     "text": [
      "<class 'pandas.core.frame.DataFrame'>\n",
      "Index: 52 entries, 0 to 1484\n",
      "Data columns (total 20 columns):\n",
      " #   Column   Non-Null Count  Dtype  \n",
      "---  ------   --------------  -----  \n",
      " 0   MATCHUP  52 non-null     object \n",
      " 1   WL       52 non-null     object \n",
      " 2   FGM      52 non-null     int64  \n",
      " 3   FGA      52 non-null     int64  \n",
      " 4   FG_PCT   52 non-null     float64\n",
      " 5   FG3M     52 non-null     int64  \n",
      " 6   FG3A     52 non-null     int64  \n",
      " 7   FG3_PCT  52 non-null     float64\n",
      " 8   FTM      52 non-null     int64  \n",
      " 9   FTA      52 non-null     int64  \n",
      " 10  FT_PCT   52 non-null     float64\n",
      " 11  OREB     52 non-null     int64  \n",
      " 12  DREB     52 non-null     int64  \n",
      " 13  REB      52 non-null     int64  \n",
      " 14  AST      52 non-null     int64  \n",
      " 15  STL      52 non-null     int64  \n",
      " 16  BLK      52 non-null     int64  \n",
      " 17  TOV      52 non-null     int64  \n",
      " 18  PF       52 non-null     int64  \n",
      " 19  PTS      52 non-null     int64  \n",
      "dtypes: float64(3), int64(15), object(2)\n",
      "memory usage: 8.5+ KB\n"
     ]
    }
   ],
   "source": [
    "lal_games.info()"
   ]
  },
  {
   "cell_type": "code",
   "execution_count": 8,
   "metadata": {},
   "outputs": [
    {
     "data": {
      "text/plain": [
       "0       DEN\n",
       "30      PHX\n",
       "76      SAC\n",
       "81      ORL\n",
       "108     LAC\n",
       "167     ORL\n",
       "204     MIA\n",
       "232     HOU\n",
       "251     PHX\n",
       "285     POR\n",
       "296     MEM\n",
       "326     SAC\n",
       "338     POR\n",
       "371     HOU\n",
       "403     UTA\n",
       "413     DAL\n",
       "462     CLE\n",
       "491     PHI\n",
       "519     DET\n",
       "541     OKC\n",
       "561     HOU\n",
       "589     PHX\n",
       "612     NOP\n",
       "677     DAL\n",
       "684     SAS\n",
       "720     SAS\n",
       "775     NYK\n",
       "795     CHI\n",
       "809     MIN\n",
       "848     OKC\n",
       "864     BOS\n",
       "915     CHA\n",
       "941     MIN\n",
       "957     NOP\n",
       "1001    MIA\n",
       "1039    MEM\n",
       "1056    LAC\n",
       "1090    TOR\n",
       "1112    PHX\n",
       "1156    UTA\n",
       "1169    OKC\n",
       "1197    DAL\n",
       "1237    BKN\n",
       "1255    POR\n",
       "1291    LAC\n",
       "1320    CHI\n",
       "1338    GSW\n",
       "1380    HOU\n",
       "1394    ATL\n",
       "1425    BOS\n",
       "1453    NYK\n",
       "1484    CHA\n",
       "Name: TEAM_ABBREVIATION, dtype: object"
      ]
     },
     "execution_count": 8,
     "metadata": {},
     "output_type": "execute_result"
    }
   ],
   "source": [
    "lal_games['TEAM_ABBREVIATION'] = lal_games['MATCHUP'].str[-3:]\n",
    "lal_games = lal_games.drop(['MATCHUP'], axis=1)\n",
    "lal_games['TEAM_ABBREVIATION']"
   ]
  },
  {
   "cell_type": "code",
   "execution_count": 9,
   "metadata": {},
   "outputs": [
    {
     "name": "stdout",
     "output_type": "stream",
     "text": [
      "<class 'pandas.core.frame.DataFrame'>\n",
      "Index: 52 entries, 0 to 1484\n",
      "Data columns (total 20 columns):\n",
      " #   Column             Non-Null Count  Dtype  \n",
      "---  ------             --------------  -----  \n",
      " 0   WL                 52 non-null     object \n",
      " 1   FGM                52 non-null     int64  \n",
      " 2   FGA                52 non-null     int64  \n",
      " 3   FG_PCT             52 non-null     float64\n",
      " 4   FG3M               52 non-null     int64  \n",
      " 5   FG3A               52 non-null     int64  \n",
      " 6   FG3_PCT            52 non-null     float64\n",
      " 7   FTM                52 non-null     int64  \n",
      " 8   FTA                52 non-null     int64  \n",
      " 9   FT_PCT             52 non-null     float64\n",
      " 10  OREB               52 non-null     int64  \n",
      " 11  DREB               52 non-null     int64  \n",
      " 12  REB                52 non-null     int64  \n",
      " 13  AST                52 non-null     int64  \n",
      " 14  STL                52 non-null     int64  \n",
      " 15  BLK                52 non-null     int64  \n",
      " 16  TOV                52 non-null     int64  \n",
      " 17  PF                 52 non-null     int64  \n",
      " 18  PTS                52 non-null     int64  \n",
      " 19  TEAM_ABBREVIATION  52 non-null     object \n",
      "dtypes: float64(3), int64(15), object(2)\n",
      "memory usage: 8.5+ KB\n"
     ]
    }
   ],
   "source": [
    "lal_games.info()"
   ]
  },
  {
   "cell_type": "markdown",
   "metadata": {},
   "source": [
    "# Now we pull the team rankings by win_pct"
   ]
  },
  {
   "cell_type": "code",
   "execution_count": 11,
   "metadata": {},
   "outputs": [
    {
     "name": "stdout",
     "output_type": "stream",
     "text": [
      "        TeamID       TeamName  WinPCT  Rank\n",
      "0   1610612738        Celtics   0.760     1\n",
      "1   1610612760        Thunder   0.700     2\n",
      "2   1610612750   Timberwolves   0.700     3\n",
      "3   1610612746       Clippers   0.694     4\n",
      "4   1610612743        Nuggets   0.686     5\n",
      "5   1610612739      Cavaliers   0.667     6\n",
      "6   1610612749          Bucks   0.660     7\n",
      "7   1610612752         Knicks   0.640     8\n",
      "8   1610612755          76ers   0.612     9\n",
      "9   1610612758          Kings   0.592    10\n",
      "10  1610612756           Suns   0.580    11\n",
      "11  1610612740       Pelicans   0.580    12\n",
      "12  1610612754         Pacers   0.549    13\n",
      "13  1610612753          Magic   0.540    14\n",
      "14  1610612742      Mavericks   0.540    15\n",
      "15  1610612748           Heat   0.520    16\n",
      "16  1610612747         Lakers   0.519    17\n",
      "17  1610612762           Jazz   0.490    18\n",
      "18  1610612745        Rockets   0.469    19\n",
      "19  1610612744       Warriors   0.468    20\n",
      "20  1610612741          Bulls   0.460    21\n",
      "21  1610612737          Hawks   0.440    22\n",
      "22  1610612751           Nets   0.408    23\n",
      "23  1610612763      Grizzlies   0.360    24\n",
      "24  1610612761        Raptors   0.340    25\n",
      "25  1610612757  Trail Blazers   0.300    26\n",
      "26  1610612766        Hornets   0.204    27\n",
      "27  1610612759          Spurs   0.200    28\n",
      "28  1610612764        Wizards   0.184    29\n",
      "29  1610612765        Pistons   0.122    30\n"
     ]
    }
   ],
   "source": [
    "from nba_api.stats.static import teams\n",
    "from nba_api.stats.endpoints import leaguestandingsv3\n",
    "\n",
    "# Get all the teams' IDs\n",
    "nba_teams = teams.get_teams()\n",
    "\n",
    "# Select the desired season\n",
    "current_season = '2023-24'\n",
    "\n",
    "# Get the standings\n",
    "standings = leaguestandingsv3.LeagueStandingsV3(season=current_season)\n",
    "standings_df = standings.get_data_frames()[0]\n",
    "\n",
    "standings_df = standings_df[['TeamID', 'TeamName', 'WinPCT']]\n",
    "standings_df = standings_df.sort_values(by='WinPCT', ascending=False).reset_index(drop=True)\n",
    "standings_df['Rank'] = standings_df.index + 1\n",
    "print(standings_df)\n",
    "\n"
   ]
  },
  {
   "cell_type": "markdown",
   "metadata": {},
   "source": [
    "Merge another table onto this to get the team abbreviation, then pull the abbreviation from lal_games then we can merge those"
   ]
  },
  {
   "cell_type": "code",
   "execution_count": 12,
   "metadata": {},
   "outputs": [
    {
     "name": "stdout",
     "output_type": "stream",
     "text": [
      "<class 'pandas.core.frame.DataFrame'>\n",
      "RangeIndex: 30 entries, 0 to 29\n",
      "Data columns (total 4 columns):\n",
      " #   Column    Non-Null Count  Dtype  \n",
      "---  ------    --------------  -----  \n",
      " 0   TeamID    30 non-null     int64  \n",
      " 1   TeamName  30 non-null     object \n",
      " 2   WinPCT    30 non-null     float64\n",
      " 3   Rank      30 non-null     int64  \n",
      "dtypes: float64(1), int64(2), object(1)\n",
      "memory usage: 1.1+ KB\n"
     ]
    }
   ],
   "source": [
    "standings_df.info()"
   ]
  },
  {
   "cell_type": "code",
   "execution_count": 13,
   "metadata": {},
   "outputs": [
    {
     "name": "stdout",
     "output_type": "stream",
     "text": [
      "        TeamID       TeamName  WinPCT  Rank\n",
      "0   1610612738        Celtics   0.760     1\n",
      "1   1610612760        Thunder   0.700     2\n",
      "2   1610612750   Timberwolves   0.700     3\n",
      "3   1610612746       Clippers   0.694     4\n",
      "4   1610612743        Nuggets   0.686     5\n",
      "5   1610612739      Cavaliers   0.667     6\n",
      "6   1610612749          Bucks   0.660     7\n",
      "7   1610612752         Knicks   0.640     8\n",
      "8   1610612755          76ers   0.612     9\n",
      "9   1610612758          Kings   0.592    10\n",
      "10  1610612756           Suns   0.580    11\n",
      "11  1610612740       Pelicans   0.580    12\n",
      "12  1610612754         Pacers   0.549    13\n",
      "13  1610612753          Magic   0.540    14\n",
      "14  1610612742      Mavericks   0.540    15\n",
      "15  1610612748           Heat   0.520    16\n",
      "17  1610612762           Jazz   0.490    18\n",
      "18  1610612745        Rockets   0.469    19\n",
      "19  1610612744       Warriors   0.468    20\n",
      "20  1610612741          Bulls   0.460    21\n",
      "21  1610612737          Hawks   0.440    22\n",
      "22  1610612751           Nets   0.408    23\n",
      "23  1610612763      Grizzlies   0.360    24\n",
      "24  1610612761        Raptors   0.340    25\n",
      "25  1610612757  Trail Blazers   0.300    26\n",
      "26  1610612766        Hornets   0.204    27\n",
      "27  1610612759          Spurs   0.200    28\n",
      "28  1610612764        Wizards   0.184    29\n",
      "29  1610612765        Pistons   0.122    30\n"
     ]
    }
   ],
   "source": [
    "mask = standings_df['TeamName'] == 'Lakers'\n",
    "\n",
    "standings_df = standings_df[~mask]\n",
    "\n",
    "print(standings_df)"
   ]
  },
  {
   "cell_type": "code",
   "execution_count": 14,
   "metadata": {},
   "outputs": [],
   "source": [
    "standings_df = standings_df.drop(['TeamName', 'WinPCT'], axis=1)"
   ]
  },
  {
   "cell_type": "code",
   "execution_count": 15,
   "metadata": {},
   "outputs": [
    {
     "name": "stdout",
     "output_type": "stream",
     "text": [
      "<class 'pandas.core.frame.DataFrame'>\n",
      "Index: 29 entries, 0 to 29\n",
      "Data columns (total 2 columns):\n",
      " #   Column  Non-Null Count  Dtype\n",
      "---  ------  --------------  -----\n",
      " 0   TeamID  29 non-null     int64\n",
      " 1   Rank    29 non-null     int64\n",
      "dtypes: int64(2)\n",
      "memory usage: 696.0 bytes\n"
     ]
    }
   ],
   "source": [
    "standings_df.info()"
   ]
  },
  {
   "cell_type": "markdown",
   "metadata": {},
   "source": [
    "# Pull Team ID and Team abbreviation"
   ]
  },
  {
   "cell_type": "code",
   "execution_count": 16,
   "metadata": {},
   "outputs": [
    {
     "name": "stdout",
     "output_type": "stream",
     "text": [
      "       Team_ID Team_Abbreviation\n",
      "0   1610612737               ATL\n",
      "1   1610612738               BOS\n",
      "2   1610612739               CLE\n",
      "3   1610612740               NOP\n",
      "4   1610612741               CHI\n",
      "5   1610612742               DAL\n",
      "6   1610612743               DEN\n",
      "7   1610612744               GSW\n",
      "8   1610612745               HOU\n",
      "9   1610612746               LAC\n",
      "10  1610612747               LAL\n",
      "11  1610612748               MIA\n",
      "12  1610612749               MIL\n",
      "13  1610612750               MIN\n",
      "14  1610612751               BKN\n",
      "15  1610612752               NYK\n",
      "16  1610612753               ORL\n",
      "17  1610612754               IND\n",
      "18  1610612755               PHI\n",
      "19  1610612756               PHX\n",
      "20  1610612757               POR\n",
      "21  1610612758               SAC\n",
      "22  1610612759               SAS\n",
      "23  1610612760               OKC\n",
      "24  1610612761               TOR\n",
      "25  1610612762               UTA\n",
      "26  1610612763               MEM\n",
      "27  1610612764               WAS\n",
      "28  1610612765               DET\n",
      "29  1610612766               CHA\n"
     ]
    }
   ],
   "source": [
    "from nba_api.stats.static import teams\n",
    "\n",
    "# Get all the teams' information\n",
    "nba_teams = teams.get_teams()\n",
    "\n",
    "# Create an empty list to store the team data\n",
    "team_data = []\n",
    "\n",
    "# Loop through each team and extract the Team_ID and Team_Abbreviation\n",
    "for team in nba_teams:\n",
    "    team_id = team['id']\n",
    "    team_abbreviation = team['abbreviation']\n",
    "    team_data.append({'Team_ID': team_id, 'Team_Abbreviation': team_abbreviation})\n",
    "\n",
    "# Create a DataFrame from the team data\n",
    "team_df = pd.DataFrame(team_data)\n",
    "\n",
    "# Print the team DataFrame\n",
    "print(team_df)"
   ]
  },
  {
   "cell_type": "code",
   "execution_count": 17,
   "metadata": {},
   "outputs": [
    {
     "name": "stdout",
     "output_type": "stream",
     "text": [
      "       Team_ID Team_Abbreviation\n",
      "0   1610612737               ATL\n",
      "1   1610612738               BOS\n",
      "2   1610612739               CLE\n",
      "3   1610612740               NOP\n",
      "4   1610612741               CHI\n",
      "5   1610612742               DAL\n",
      "6   1610612743               DEN\n",
      "7   1610612744               GSW\n",
      "8   1610612745               HOU\n",
      "9   1610612746               LAC\n",
      "11  1610612748               MIA\n",
      "12  1610612749               MIL\n",
      "13  1610612750               MIN\n",
      "14  1610612751               BKN\n",
      "15  1610612752               NYK\n",
      "16  1610612753               ORL\n",
      "17  1610612754               IND\n",
      "18  1610612755               PHI\n",
      "19  1610612756               PHX\n",
      "20  1610612757               POR\n",
      "21  1610612758               SAC\n",
      "22  1610612759               SAS\n",
      "23  1610612760               OKC\n",
      "24  1610612761               TOR\n",
      "25  1610612762               UTA\n",
      "26  1610612763               MEM\n",
      "27  1610612764               WAS\n",
      "28  1610612765               DET\n",
      "29  1610612766               CHA\n"
     ]
    }
   ],
   "source": [
    "mask = team_df['Team_Abbreviation'] == 'LAL'\n",
    "\n",
    "team_df = team_df[~mask]\n",
    "\n",
    "print(team_df)"
   ]
  },
  {
   "cell_type": "markdown",
   "metadata": {},
   "source": [
    "# Merge team abbreviation and team rank by team id"
   ]
  },
  {
   "cell_type": "code",
   "execution_count": 18,
   "metadata": {},
   "outputs": [
    {
     "name": "stdout",
     "output_type": "stream",
     "text": [
      "       Team_ID Team_Abbreviation      TeamID  Rank\n",
      "0   1610612737               ATL  1610612737    22\n",
      "1   1610612738               BOS  1610612738     1\n",
      "2   1610612739               CLE  1610612739     6\n",
      "3   1610612740               NOP  1610612740    12\n",
      "4   1610612741               CHI  1610612741    21\n",
      "5   1610612742               DAL  1610612742    15\n",
      "6   1610612743               DEN  1610612743     5\n",
      "7   1610612744               GSW  1610612744    20\n",
      "8   1610612745               HOU  1610612745    19\n",
      "9   1610612746               LAC  1610612746     4\n",
      "10  1610612748               MIA  1610612748    16\n",
      "11  1610612749               MIL  1610612749     7\n",
      "12  1610612750               MIN  1610612750     3\n",
      "13  1610612751               BKN  1610612751    23\n",
      "14  1610612752               NYK  1610612752     8\n",
      "15  1610612753               ORL  1610612753    14\n",
      "16  1610612754               IND  1610612754    13\n",
      "17  1610612755               PHI  1610612755     9\n",
      "18  1610612756               PHX  1610612756    11\n",
      "19  1610612757               POR  1610612757    26\n",
      "20  1610612758               SAC  1610612758    10\n",
      "21  1610612759               SAS  1610612759    28\n",
      "22  1610612760               OKC  1610612760     2\n",
      "23  1610612761               TOR  1610612761    25\n",
      "24  1610612762               UTA  1610612762    18\n",
      "25  1610612763               MEM  1610612763    24\n",
      "26  1610612764               WAS  1610612764    29\n",
      "27  1610612765               DET  1610612765    30\n",
      "28  1610612766               CHA  1610612766    27\n"
     ]
    }
   ],
   "source": [
    "league_rank_df = pd.merge(team_df, standings_df, left_on='Team_ID', right_on='TeamID', how='inner')\n",
    "print(league_rank_df)"
   ]
  },
  {
   "cell_type": "code",
   "execution_count": 19,
   "metadata": {},
   "outputs": [],
   "source": [
    "league_rank_df = league_rank_df.drop(['Team_ID', 'TeamID'], axis=1)"
   ]
  },
  {
   "cell_type": "code",
   "execution_count": 20,
   "metadata": {},
   "outputs": [
    {
     "name": "stdout",
     "output_type": "stream",
     "text": [
      "    Rank TEAM_ABBREVIATION\n",
      "0     22               ATL\n",
      "1      1               BOS\n",
      "2      6               CLE\n",
      "3     12               NOP\n",
      "4     21               CHI\n",
      "5     15               DAL\n",
      "6      5               DEN\n",
      "7     20               GSW\n",
      "8     19               HOU\n",
      "9      4               LAC\n",
      "10    16               MIA\n",
      "11     7               MIL\n",
      "12     3               MIN\n",
      "13    23               BKN\n",
      "14     8               NYK\n",
      "15    14               ORL\n",
      "16    13               IND\n",
      "17     9               PHI\n",
      "18    11               PHX\n",
      "19    26               POR\n",
      "20    10               SAC\n",
      "21    28               SAS\n",
      "22     2               OKC\n",
      "23    25               TOR\n",
      "24    18               UTA\n",
      "25    24               MEM\n",
      "26    29               WAS\n",
      "27    30               DET\n",
      "28    27               CHA\n"
     ]
    }
   ],
   "source": [
    "league_rank_df['TEAM_ABBREVIATION'] = league_rank_df['Team_Abbreviation']\n",
    "league_rank_df = league_rank_df.drop(['Team_Abbreviation'], axis=1)\n",
    "print(league_rank_df)"
   ]
  },
  {
   "cell_type": "markdown",
   "metadata": {},
   "source": [
    "# Merge league_rank with lal_games"
   ]
  },
  {
   "cell_type": "code",
   "execution_count": 21,
   "metadata": {},
   "outputs": [
    {
     "name": "stdout",
     "output_type": "stream",
     "text": [
      "   WL  FGM  FGA  FG_PCT  FG3M  FG3A  FG3_PCT  FTM  FTA  FT_PCT  ...  DREB  \\\n",
      "0   L   41   90   0.456    10    29    0.345   15   20   0.750  ...    31   \n",
      "1   W   36   84   0.429     5    29    0.172   23   29   0.793  ...    34   \n",
      "2   L   43   98   0.439    15    45    0.333   26   34   0.765  ...    45   \n",
      "3   W   42   79   0.532     8    27    0.296   14   18   0.778  ...    37   \n",
      "4   W   46   90   0.511    11    32    0.344   27   36   0.750  ...    42   \n",
      "5   L   37   84   0.440     8    30    0.267   19   21   0.905  ...    30   \n",
      "6   L   44   81   0.543     8    26    0.308   11   14   0.786  ...    33   \n",
      "7   L   36   85   0.424     7    25    0.280   15   24   0.625  ...    29   \n",
      "8   W   42   84   0.500    12    27    0.444   26   34   0.765  ...    34   \n",
      "9   W   41   84   0.488     4    19    0.211   30   37   0.811  ...    34   \n",
      "10  W   47   81   0.580    22    35    0.629   18   24   0.750  ...    44   \n",
      "11  L   42   83   0.506    11    29    0.379   15   19   0.789  ...    36   \n",
      "12  W   40   81   0.494    12    29    0.414   15   22   0.682  ...    33   \n",
      "13  W   39   83   0.470     6    29    0.207   21   29   0.724  ...    32   \n",
      "14  W   49   86   0.570    11    29    0.379   22   27   0.815  ...    43   \n",
      "15  L   39   84   0.464    11    29    0.379   12   19   0.632  ...    42   \n",
      "16  W   47   90   0.522     9    27    0.333   18   21   0.857  ...    35   \n",
      "17  L   39   83   0.470     7    28    0.250    9   13   0.692  ...    26   \n",
      "18  W   45   88   0.511    12    34    0.353   31   38   0.816  ...    41   \n",
      "19  L   36   81   0.444    11    33    0.333   27   32   0.844  ...    34   \n",
      "20  W   40   89   0.449     8    27    0.296   19   27   0.704  ...    39   \n",
      "21  W   38  102   0.373     9    30    0.300   21   25   0.840  ...    24   \n",
      "22  W   47   86   0.547    17    35    0.486   22   29   0.759  ...    48   \n",
      "23  L   49   91   0.538    15    29    0.517   12   18   0.667  ...    30   \n",
      "24  W   49   91   0.538    14    35    0.400   10   17   0.588  ...    41   \n",
      "25  L   43   89   0.483    11    36    0.306   18   28   0.643  ...    34   \n",
      "26  L   42   99   0.424    13    41    0.317   12   13   0.923  ...    32   \n",
      "27  L   42   94   0.447    12    37    0.324   12   15   0.800  ...    32   \n",
      "28  L   41   83   0.494    10    24    0.417   19   24   0.792  ...    31   \n",
      "29  W   47   90   0.522    16    32    0.500   19   23   0.826  ...    36   \n",
      "30  L   43   90   0.478    13    32    0.406   16   21   0.762  ...    30   \n",
      "31  W   52   97   0.536    15    30    0.500   14   14   1.000  ...    37   \n",
      "32  L   37   88   0.420     7    24    0.292   25   32   0.781  ...    31   \n",
      "33  L   39   82   0.476    10    32    0.313   21   25   0.840  ...    31   \n",
      "34  L   35   83   0.422     4    30    0.133   22   24   0.917  ...    41   \n",
      "35  L   42   85   0.494    10    28    0.357   19   27   0.704  ...    27   \n",
      "36  W   42   82   0.512    11    29    0.379   11   16   0.688  ...    32   \n",
      "37  W   44   81   0.543    16    36    0.444   28   36   0.778  ...    34   \n",
      "38  L   40   80   0.500    13    34    0.382   16   25   0.640  ...    30   \n",
      "39  L   46   92   0.500    13    29    0.448   20   24   0.833  ...    33   \n",
      "40  W   44   84   0.524     8    24    0.333   16   18   0.889  ...    36   \n",
      "41  W   49   91   0.538    12    28    0.429   17   24   0.708  ...    36   \n",
      "42  L   40   90   0.444    12    33    0.364   20   24   0.833  ...    34   \n",
      "43  W   47   86   0.547    13    33    0.394   27   29   0.931  ...    35   \n",
      "44  L   45   92   0.489    11    32    0.344   15   22   0.682  ...    28   \n",
      "45  W   53   87   0.609    20    31    0.645   15   20   0.750  ...    25   \n",
      "46  W   49  101   0.485     9    27    0.333   38   43   0.884  ...    48   \n",
      "47  L   45   91   0.495    13    35    0.371   16   26   0.615  ...    31   \n",
      "48  L   48   90   0.533    12    33    0.364   14   25   0.560  ...    30   \n",
      "49  W   38   94   0.404    19    36    0.528   19   26   0.731  ...    37   \n",
      "50  W   39   80   0.488    12    31    0.387   23   27   0.852  ...    35   \n",
      "51  W   50   89   0.562     8    34    0.235   16   19   0.842  ...    41   \n",
      "\n",
      "    REB  AST  STL  BLK  TOV  PF  PTS  TEAM_ABBREVIATION Rank  \n",
      "0    44   23    5    4   12  18  107                DEN    5  \n",
      "1    42   24   14    7   16  23  100                PHX   11  \n",
      "2    53   27    4    4   12  22  127                SAC   10  \n",
      "3    40   28    7   10   16  17  106                ORL   14  \n",
      "4    51   28   10    9   14  24  130                LAC    4  \n",
      "5    40   17    6   10   17  21  101                ORL   14  \n",
      "6    38   28    6    5   17  17  107                MIA   16  \n",
      "7    34   20    7    6    9  18   94                HOU   19  \n",
      "8    43   27    9    7   11  20  122                PHX   11  \n",
      "9    41   27    8    4    9  11  116                POR   26  \n",
      "10   54   30    4   10   19  13  134                MEM   24  \n",
      "11   43   25   12    6   23  17  110                SAC   10  \n",
      "12   44   27   11    6   18  16  107                POR   26  \n",
      "13   42   26   13    1   18  13  105                HOU   19  \n",
      "14   52   35    6    5   15  15  131                UTA   18  \n",
      "15   51   26    1    2   13  17  101                DAL   15  \n",
      "16   44   34    9    8   18  15  121                CLE    6  \n",
      "17   32   23    3    4   17  18   94                PHI    9  \n",
      "18   49   28    7   10   12  12  133                DET   30  \n",
      "19   41   24    6    2   14  20  110                OKC    2  \n",
      "20   48   24   11    7   12  17  107                HOU   19  \n",
      "21   45   24   11    2   10  19  106                PHX   11  \n",
      "22   59   31    6    4   15  16  133                NOP   12  \n",
      "23   40   34    4    4   15  20  125                DAL   15  \n",
      "24   46   31   14    4   16  16  122                SAS   28  \n",
      "25   43   32    5    5    6  15  115                SAS   28  \n",
      "26   41   29    9    3   10  17  109                NYK    8  \n",
      "27   40   27    7    7   14  11  108                CHI   21  \n",
      "28   38   21    6    6   18  18  111                MIN    3  \n",
      "29   44   37    7    7    9  13  129                OKC    2  \n",
      "30   43   24    4    1   12  19  115                BOS    1  \n",
      "31   42   41   11    7   11  21  133                CHA   27  \n",
      "32   39   23   12    4   10  15  106                MIN    3  \n",
      "33   35   26    8   10   13  15  109                NOP   12  \n",
      "34   50   29    3    6   22  14   96                MIA   16  \n",
      "35   35   26   13    3   14  14  113                MEM   24  \n",
      "36   40   23    9    6   19  11  106                LAC    4  \n",
      "37   39   34    6    4   15  16  132                TOR   25  \n",
      "38   37   33    8    4   18  19  109                PHX   11  \n",
      "39   40   30    6    8   12  23  125                UTA   18  \n",
      "40   44   30    7    9   17  12  112                OKC    2  \n",
      "41   45   33    8    1   11  15  127                DAL   15  \n",
      "42   44   31    7    3   14  11  112                BKN   23  \n",
      "43   45   28    9    6   14  18  134                POR   26  \n",
      "44   41   27    9    8   15  15  116                LAC    4  \n",
      "45   30   35   10    4   14  21  141                CHI   21  \n",
      "46   55   33    9    5   20  21  145                GSW   20  \n",
      "47   35   26   10    6   12  13  119                HOU   19  \n",
      "48   37   28   12    3   14  16  122                ATL   22  \n",
      "49   52   30   11    2    7   8  114                BOS    1  \n",
      "50   38   28    4   11    5  16  113                NYK    8  \n",
      "51   48   36    5    6   17  12  124                CHA   27  \n",
      "\n",
      "[52 rows x 21 columns]\n"
     ]
    }
   ],
   "source": [
    "lal_games_ranked = pd.merge(lal_games, league_rank_df[['TEAM_ABBREVIATION', 'Rank']], on='TEAM_ABBREVIATION', how='left')\n",
    "print(lal_games_ranked)\n"
   ]
  },
  {
   "cell_type": "code",
   "execution_count": 22,
   "metadata": {},
   "outputs": [
    {
     "name": "stdout",
     "output_type": "stream",
     "text": [
      "<class 'pandas.core.frame.DataFrame'>\n",
      "RangeIndex: 52 entries, 0 to 51\n",
      "Data columns (total 21 columns):\n",
      " #   Column             Non-Null Count  Dtype  \n",
      "---  ------             --------------  -----  \n",
      " 0   WL                 52 non-null     object \n",
      " 1   FGM                52 non-null     int64  \n",
      " 2   FGA                52 non-null     int64  \n",
      " 3   FG_PCT             52 non-null     float64\n",
      " 4   FG3M               52 non-null     int64  \n",
      " 5   FG3A               52 non-null     int64  \n",
      " 6   FG3_PCT            52 non-null     float64\n",
      " 7   FTM                52 non-null     int64  \n",
      " 8   FTA                52 non-null     int64  \n",
      " 9   FT_PCT             52 non-null     float64\n",
      " 10  OREB               52 non-null     int64  \n",
      " 11  DREB               52 non-null     int64  \n",
      " 12  REB                52 non-null     int64  \n",
      " 13  AST                52 non-null     int64  \n",
      " 14  STL                52 non-null     int64  \n",
      " 15  BLK                52 non-null     int64  \n",
      " 16  TOV                52 non-null     int64  \n",
      " 17  PF                 52 non-null     int64  \n",
      " 18  PTS                52 non-null     int64  \n",
      " 19  TEAM_ABBREVIATION  52 non-null     object \n",
      " 20  Rank               52 non-null     int64  \n",
      "dtypes: float64(3), int64(16), object(2)\n",
      "memory usage: 8.7+ KB\n"
     ]
    }
   ],
   "source": [
    "lal_games_ranked.info()"
   ]
  },
  {
   "cell_type": "code",
   "execution_count": 23,
   "metadata": {},
   "outputs": [
    {
     "data": {
      "text/html": [
       "<div>\n",
       "<style scoped>\n",
       "    .dataframe tbody tr th:only-of-type {\n",
       "        vertical-align: middle;\n",
       "    }\n",
       "\n",
       "    .dataframe tbody tr th {\n",
       "        vertical-align: top;\n",
       "    }\n",
       "\n",
       "    .dataframe thead th {\n",
       "        text-align: right;\n",
       "    }\n",
       "</style>\n",
       "<table border=\"1\" class=\"dataframe\">\n",
       "  <thead>\n",
       "    <tr style=\"text-align: right;\">\n",
       "      <th></th>\n",
       "      <th>WL</th>\n",
       "      <th>FGM</th>\n",
       "      <th>FGA</th>\n",
       "      <th>FG_PCT</th>\n",
       "      <th>FG3M</th>\n",
       "      <th>FG3A</th>\n",
       "      <th>FG3_PCT</th>\n",
       "      <th>FTM</th>\n",
       "      <th>FTA</th>\n",
       "      <th>FT_PCT</th>\n",
       "      <th>...</th>\n",
       "      <th>DREB</th>\n",
       "      <th>REB</th>\n",
       "      <th>AST</th>\n",
       "      <th>STL</th>\n",
       "      <th>BLK</th>\n",
       "      <th>TOV</th>\n",
       "      <th>PF</th>\n",
       "      <th>PTS</th>\n",
       "      <th>TEAM_ABBREVIATION</th>\n",
       "      <th>Rank</th>\n",
       "    </tr>\n",
       "  </thead>\n",
       "  <tbody>\n",
       "    <tr>\n",
       "      <th>0</th>\n",
       "      <td>L</td>\n",
       "      <td>41</td>\n",
       "      <td>90</td>\n",
       "      <td>0.456</td>\n",
       "      <td>10</td>\n",
       "      <td>29</td>\n",
       "      <td>0.345</td>\n",
       "      <td>15</td>\n",
       "      <td>20</td>\n",
       "      <td>0.750</td>\n",
       "      <td>...</td>\n",
       "      <td>31</td>\n",
       "      <td>44</td>\n",
       "      <td>23</td>\n",
       "      <td>5</td>\n",
       "      <td>4</td>\n",
       "      <td>12</td>\n",
       "      <td>18</td>\n",
       "      <td>107</td>\n",
       "      <td>DEN</td>\n",
       "      <td>5</td>\n",
       "    </tr>\n",
       "    <tr>\n",
       "      <th>1</th>\n",
       "      <td>W</td>\n",
       "      <td>36</td>\n",
       "      <td>84</td>\n",
       "      <td>0.429</td>\n",
       "      <td>5</td>\n",
       "      <td>29</td>\n",
       "      <td>0.172</td>\n",
       "      <td>23</td>\n",
       "      <td>29</td>\n",
       "      <td>0.793</td>\n",
       "      <td>...</td>\n",
       "      <td>34</td>\n",
       "      <td>42</td>\n",
       "      <td>24</td>\n",
       "      <td>14</td>\n",
       "      <td>7</td>\n",
       "      <td>16</td>\n",
       "      <td>23</td>\n",
       "      <td>100</td>\n",
       "      <td>PHX</td>\n",
       "      <td>11</td>\n",
       "    </tr>\n",
       "    <tr>\n",
       "      <th>2</th>\n",
       "      <td>L</td>\n",
       "      <td>43</td>\n",
       "      <td>98</td>\n",
       "      <td>0.439</td>\n",
       "      <td>15</td>\n",
       "      <td>45</td>\n",
       "      <td>0.333</td>\n",
       "      <td>26</td>\n",
       "      <td>34</td>\n",
       "      <td>0.765</td>\n",
       "      <td>...</td>\n",
       "      <td>45</td>\n",
       "      <td>53</td>\n",
       "      <td>27</td>\n",
       "      <td>4</td>\n",
       "      <td>4</td>\n",
       "      <td>12</td>\n",
       "      <td>22</td>\n",
       "      <td>127</td>\n",
       "      <td>SAC</td>\n",
       "      <td>10</td>\n",
       "    </tr>\n",
       "    <tr>\n",
       "      <th>3</th>\n",
       "      <td>W</td>\n",
       "      <td>42</td>\n",
       "      <td>79</td>\n",
       "      <td>0.532</td>\n",
       "      <td>8</td>\n",
       "      <td>27</td>\n",
       "      <td>0.296</td>\n",
       "      <td>14</td>\n",
       "      <td>18</td>\n",
       "      <td>0.778</td>\n",
       "      <td>...</td>\n",
       "      <td>37</td>\n",
       "      <td>40</td>\n",
       "      <td>28</td>\n",
       "      <td>7</td>\n",
       "      <td>10</td>\n",
       "      <td>16</td>\n",
       "      <td>17</td>\n",
       "      <td>106</td>\n",
       "      <td>ORL</td>\n",
       "      <td>14</td>\n",
       "    </tr>\n",
       "    <tr>\n",
       "      <th>4</th>\n",
       "      <td>W</td>\n",
       "      <td>46</td>\n",
       "      <td>90</td>\n",
       "      <td>0.511</td>\n",
       "      <td>11</td>\n",
       "      <td>32</td>\n",
       "      <td>0.344</td>\n",
       "      <td>27</td>\n",
       "      <td>36</td>\n",
       "      <td>0.750</td>\n",
       "      <td>...</td>\n",
       "      <td>42</td>\n",
       "      <td>51</td>\n",
       "      <td>28</td>\n",
       "      <td>10</td>\n",
       "      <td>9</td>\n",
       "      <td>14</td>\n",
       "      <td>24</td>\n",
       "      <td>130</td>\n",
       "      <td>LAC</td>\n",
       "      <td>4</td>\n",
       "    </tr>\n",
       "  </tbody>\n",
       "</table>\n",
       "<p>5 rows × 21 columns</p>\n",
       "</div>"
      ],
      "text/plain": [
       "  WL  FGM  FGA  FG_PCT  FG3M  FG3A  FG3_PCT  FTM  FTA  FT_PCT  ...  DREB  REB  \\\n",
       "0  L   41   90   0.456    10    29    0.345   15   20   0.750  ...    31   44   \n",
       "1  W   36   84   0.429     5    29    0.172   23   29   0.793  ...    34   42   \n",
       "2  L   43   98   0.439    15    45    0.333   26   34   0.765  ...    45   53   \n",
       "3  W   42   79   0.532     8    27    0.296   14   18   0.778  ...    37   40   \n",
       "4  W   46   90   0.511    11    32    0.344   27   36   0.750  ...    42   51   \n",
       "\n",
       "   AST  STL  BLK  TOV  PF  PTS  TEAM_ABBREVIATION Rank  \n",
       "0   23    5    4   12  18  107                DEN    5  \n",
       "1   24   14    7   16  23  100                PHX   11  \n",
       "2   27    4    4   12  22  127                SAC   10  \n",
       "3   28    7   10   16  17  106                ORL   14  \n",
       "4   28   10    9   14  24  130                LAC    4  \n",
       "\n",
       "[5 rows x 21 columns]"
      ]
     },
     "execution_count": 23,
     "metadata": {},
     "output_type": "execute_result"
    }
   ],
   "source": [
    "lal_games_ranked.head()"
   ]
  },
  {
   "cell_type": "code",
   "execution_count": 24,
   "metadata": {},
   "outputs": [
    {
     "data": {
      "text/html": [
       "<div>\n",
       "<style scoped>\n",
       "    .dataframe tbody tr th:only-of-type {\n",
       "        vertical-align: middle;\n",
       "    }\n",
       "\n",
       "    .dataframe tbody tr th {\n",
       "        vertical-align: top;\n",
       "    }\n",
       "\n",
       "    .dataframe thead th {\n",
       "        text-align: right;\n",
       "    }\n",
       "</style>\n",
       "<table border=\"1\" class=\"dataframe\">\n",
       "  <thead>\n",
       "    <tr style=\"text-align: right;\">\n",
       "      <th></th>\n",
       "      <th>WL</th>\n",
       "      <th>FGM</th>\n",
       "      <th>FGA</th>\n",
       "      <th>FG_PCT</th>\n",
       "      <th>FG3M</th>\n",
       "      <th>FG3A</th>\n",
       "      <th>FG3_PCT</th>\n",
       "      <th>FTM</th>\n",
       "      <th>FTA</th>\n",
       "      <th>FT_PCT</th>\n",
       "      <th>...</th>\n",
       "      <th>DREB</th>\n",
       "      <th>REB</th>\n",
       "      <th>AST</th>\n",
       "      <th>STL</th>\n",
       "      <th>BLK</th>\n",
       "      <th>TOV</th>\n",
       "      <th>PF</th>\n",
       "      <th>PTS</th>\n",
       "      <th>TEAM_ABBREVIATION</th>\n",
       "      <th>Rank</th>\n",
       "    </tr>\n",
       "  </thead>\n",
       "  <tbody>\n",
       "    <tr>\n",
       "      <th>47</th>\n",
       "      <td>L</td>\n",
       "      <td>45</td>\n",
       "      <td>91</td>\n",
       "      <td>0.495</td>\n",
       "      <td>13</td>\n",
       "      <td>35</td>\n",
       "      <td>0.371</td>\n",
       "      <td>16</td>\n",
       "      <td>26</td>\n",
       "      <td>0.615</td>\n",
       "      <td>...</td>\n",
       "      <td>31</td>\n",
       "      <td>35</td>\n",
       "      <td>26</td>\n",
       "      <td>10</td>\n",
       "      <td>6</td>\n",
       "      <td>12</td>\n",
       "      <td>13</td>\n",
       "      <td>119</td>\n",
       "      <td>HOU</td>\n",
       "      <td>19</td>\n",
       "    </tr>\n",
       "    <tr>\n",
       "      <th>48</th>\n",
       "      <td>L</td>\n",
       "      <td>48</td>\n",
       "      <td>90</td>\n",
       "      <td>0.533</td>\n",
       "      <td>12</td>\n",
       "      <td>33</td>\n",
       "      <td>0.364</td>\n",
       "      <td>14</td>\n",
       "      <td>25</td>\n",
       "      <td>0.560</td>\n",
       "      <td>...</td>\n",
       "      <td>30</td>\n",
       "      <td>37</td>\n",
       "      <td>28</td>\n",
       "      <td>12</td>\n",
       "      <td>3</td>\n",
       "      <td>14</td>\n",
       "      <td>16</td>\n",
       "      <td>122</td>\n",
       "      <td>ATL</td>\n",
       "      <td>22</td>\n",
       "    </tr>\n",
       "    <tr>\n",
       "      <th>49</th>\n",
       "      <td>W</td>\n",
       "      <td>38</td>\n",
       "      <td>94</td>\n",
       "      <td>0.404</td>\n",
       "      <td>19</td>\n",
       "      <td>36</td>\n",
       "      <td>0.528</td>\n",
       "      <td>19</td>\n",
       "      <td>26</td>\n",
       "      <td>0.731</td>\n",
       "      <td>...</td>\n",
       "      <td>37</td>\n",
       "      <td>52</td>\n",
       "      <td>30</td>\n",
       "      <td>11</td>\n",
       "      <td>2</td>\n",
       "      <td>7</td>\n",
       "      <td>8</td>\n",
       "      <td>114</td>\n",
       "      <td>BOS</td>\n",
       "      <td>1</td>\n",
       "    </tr>\n",
       "    <tr>\n",
       "      <th>50</th>\n",
       "      <td>W</td>\n",
       "      <td>39</td>\n",
       "      <td>80</td>\n",
       "      <td>0.488</td>\n",
       "      <td>12</td>\n",
       "      <td>31</td>\n",
       "      <td>0.387</td>\n",
       "      <td>23</td>\n",
       "      <td>27</td>\n",
       "      <td>0.852</td>\n",
       "      <td>...</td>\n",
       "      <td>35</td>\n",
       "      <td>38</td>\n",
       "      <td>28</td>\n",
       "      <td>4</td>\n",
       "      <td>11</td>\n",
       "      <td>5</td>\n",
       "      <td>16</td>\n",
       "      <td>113</td>\n",
       "      <td>NYK</td>\n",
       "      <td>8</td>\n",
       "    </tr>\n",
       "    <tr>\n",
       "      <th>51</th>\n",
       "      <td>W</td>\n",
       "      <td>50</td>\n",
       "      <td>89</td>\n",
       "      <td>0.562</td>\n",
       "      <td>8</td>\n",
       "      <td>34</td>\n",
       "      <td>0.235</td>\n",
       "      <td>16</td>\n",
       "      <td>19</td>\n",
       "      <td>0.842</td>\n",
       "      <td>...</td>\n",
       "      <td>41</td>\n",
       "      <td>48</td>\n",
       "      <td>36</td>\n",
       "      <td>5</td>\n",
       "      <td>6</td>\n",
       "      <td>17</td>\n",
       "      <td>12</td>\n",
       "      <td>124</td>\n",
       "      <td>CHA</td>\n",
       "      <td>27</td>\n",
       "    </tr>\n",
       "  </tbody>\n",
       "</table>\n",
       "<p>5 rows × 21 columns</p>\n",
       "</div>"
      ],
      "text/plain": [
       "   WL  FGM  FGA  FG_PCT  FG3M  FG3A  FG3_PCT  FTM  FTA  FT_PCT  ...  DREB  \\\n",
       "47  L   45   91   0.495    13    35    0.371   16   26   0.615  ...    31   \n",
       "48  L   48   90   0.533    12    33    0.364   14   25   0.560  ...    30   \n",
       "49  W   38   94   0.404    19    36    0.528   19   26   0.731  ...    37   \n",
       "50  W   39   80   0.488    12    31    0.387   23   27   0.852  ...    35   \n",
       "51  W   50   89   0.562     8    34    0.235   16   19   0.842  ...    41   \n",
       "\n",
       "    REB  AST  STL  BLK  TOV  PF  PTS  TEAM_ABBREVIATION Rank  \n",
       "47   35   26   10    6   12  13  119                HOU   19  \n",
       "48   37   28   12    3   14  16  122                ATL   22  \n",
       "49   52   30   11    2    7   8  114                BOS    1  \n",
       "50   38   28    4   11    5  16  113                NYK    8  \n",
       "51   48   36    5    6   17  12  124                CHA   27  \n",
       "\n",
       "[5 rows x 21 columns]"
      ]
     },
     "execution_count": 24,
     "metadata": {},
     "output_type": "execute_result"
    }
   ],
   "source": [
    "lal_games_ranked.tail()"
   ]
  },
  {
   "cell_type": "markdown",
   "metadata": {},
   "source": [
    "We can see now that the team has the right ranking so it worked as planned"
   ]
  },
  {
   "cell_type": "code",
   "execution_count": 25,
   "metadata": {},
   "outputs": [],
   "source": [
    "lal_games_ranked = lal_games_ranked.drop(['TEAM_ABBREVIATION'], axis=1)"
   ]
  },
  {
   "cell_type": "markdown",
   "metadata": {},
   "source": [
    "Now we have our training dataset ready to go, now it is time to set up the prediction dataset for future predictions"
   ]
  },
  {
   "cell_type": "markdown",
   "metadata": {},
   "source": [
    "# Get Average Lakers Game"
   ]
  },
  {
   "cell_type": "code",
   "execution_count": 26,
   "metadata": {},
   "outputs": [],
   "source": [
    "from nba_api.stats.endpoints import TeamYearByYearStats\n",
    "\n",
    "# Specify the team ID for the desired team\n",
    "team_id = '1610612747'  # Team ID for LAL is '1610612747'\n",
    "\n",
    "# Create an instance of the TeamYearByYearStats endpoint\n",
    "team_stats = TeamYearByYearStats(team_id)\n",
    "\n",
    "# Retrieve the data from the API\n",
    "team_stats_data = team_stats.get_data_frames()[0]\n",
    "lal_team_stats = pd.DataFrame(team_stats_data)\n",
    "lal_team_stats_2024 = lal_team_stats[lal_team_stats['YEAR'] == '2023-24']"
   ]
  },
  {
   "cell_type": "code",
   "execution_count": 27,
   "metadata": {},
   "outputs": [
    {
     "data": {
      "text/html": [
       "<div>\n",
       "<style scoped>\n",
       "    .dataframe tbody tr th:only-of-type {\n",
       "        vertical-align: middle;\n",
       "    }\n",
       "\n",
       "    .dataframe tbody tr th {\n",
       "        vertical-align: top;\n",
       "    }\n",
       "\n",
       "    .dataframe thead th {\n",
       "        text-align: right;\n",
       "    }\n",
       "</style>\n",
       "<table border=\"1\" class=\"dataframe\">\n",
       "  <thead>\n",
       "    <tr style=\"text-align: right;\">\n",
       "      <th></th>\n",
       "      <th>TEAM_ID</th>\n",
       "      <th>TEAM_CITY</th>\n",
       "      <th>TEAM_NAME</th>\n",
       "      <th>YEAR</th>\n",
       "      <th>GP</th>\n",
       "      <th>WINS</th>\n",
       "      <th>LOSSES</th>\n",
       "      <th>WIN_PCT</th>\n",
       "      <th>CONF_RANK</th>\n",
       "      <th>DIV_RANK</th>\n",
       "      <th>...</th>\n",
       "      <th>OREB</th>\n",
       "      <th>DREB</th>\n",
       "      <th>REB</th>\n",
       "      <th>AST</th>\n",
       "      <th>PF</th>\n",
       "      <th>STL</th>\n",
       "      <th>TOV</th>\n",
       "      <th>BLK</th>\n",
       "      <th>PTS</th>\n",
       "      <th>PTS_RANK</th>\n",
       "    </tr>\n",
       "  </thead>\n",
       "  <tbody>\n",
       "    <tr>\n",
       "      <th>75</th>\n",
       "      <td>1610612747</td>\n",
       "      <td>Los Angeles</td>\n",
       "      <td>Lakers</td>\n",
       "      <td>2023-24</td>\n",
       "      <td>52</td>\n",
       "      <td>27</td>\n",
       "      <td>25</td>\n",
       "      <td>0.519</td>\n",
       "      <td>9</td>\n",
       "      <td>4</td>\n",
       "      <td>...</td>\n",
       "      <td>432</td>\n",
       "      <td>1804</td>\n",
       "      <td>2236</td>\n",
       "      <td>1471</td>\n",
       "      <td>854</td>\n",
       "      <td>409</td>\n",
       "      <td>731</td>\n",
       "      <td>286</td>\n",
       "      <td>6044</td>\n",
       "      <td>4</td>\n",
       "    </tr>\n",
       "  </tbody>\n",
       "</table>\n",
       "<p>1 rows × 34 columns</p>\n",
       "</div>"
      ],
      "text/plain": [
       "       TEAM_ID    TEAM_CITY TEAM_NAME     YEAR  GP  WINS  LOSSES  WIN_PCT  \\\n",
       "75  1610612747  Los Angeles    Lakers  2023-24  52    27      25    0.519   \n",
       "\n",
       "    CONF_RANK  DIV_RANK  ...  OREB  DREB   REB   AST   PF  STL  TOV  BLK  \\\n",
       "75          9         4  ...   432  1804  2236  1471  854  409  731  286   \n",
       "\n",
       "     PTS  PTS_RANK  \n",
       "75  6044         4  \n",
       "\n",
       "[1 rows x 34 columns]"
      ]
     },
     "execution_count": 27,
     "metadata": {},
     "output_type": "execute_result"
    }
   ],
   "source": [
    "lal_team_stats_2024.head()"
   ]
  },
  {
   "cell_type": "code",
   "execution_count": 28,
   "metadata": {},
   "outputs": [
    {
     "name": "stdout",
     "output_type": "stream",
     "text": [
      "<class 'pandas.core.frame.DataFrame'>\n",
      "Index: 1 entries, 75 to 75\n",
      "Data columns (total 34 columns):\n",
      " #   Column                 Non-Null Count  Dtype  \n",
      "---  ------                 --------------  -----  \n",
      " 0   TEAM_ID                1 non-null      int64  \n",
      " 1   TEAM_CITY              1 non-null      object \n",
      " 2   TEAM_NAME              1 non-null      object \n",
      " 3   YEAR                   1 non-null      object \n",
      " 4   GP                     1 non-null      int64  \n",
      " 5   WINS                   1 non-null      int64  \n",
      " 6   LOSSES                 1 non-null      int64  \n",
      " 7   WIN_PCT                1 non-null      float64\n",
      " 8   CONF_RANK              1 non-null      int64  \n",
      " 9   DIV_RANK               1 non-null      int64  \n",
      " 10  PO_WINS                1 non-null      int64  \n",
      " 11  PO_LOSSES              1 non-null      int64  \n",
      " 12  CONF_COUNT             1 non-null      float64\n",
      " 13  DIV_COUNT              1 non-null      int64  \n",
      " 14  NBA_FINALS_APPEARANCE  1 non-null      object \n",
      " 15  FGM                    1 non-null      int64  \n",
      " 16  FGA                    1 non-null      int64  \n",
      " 17  FG_PCT                 1 non-null      float64\n",
      " 18  FG3M                   1 non-null      int64  \n",
      " 19  FG3A                   1 non-null      int64  \n",
      " 20  FG3_PCT                1 non-null      float64\n",
      " 21  FTM                    1 non-null      int64  \n",
      " 22  FTA                    1 non-null      int64  \n",
      " 23  FT_PCT                 1 non-null      float64\n",
      " 24  OREB                   1 non-null      int64  \n",
      " 25  DREB                   1 non-null      int64  \n",
      " 26  REB                    1 non-null      int64  \n",
      " 27  AST                    1 non-null      int64  \n",
      " 28  PF                     1 non-null      int64  \n",
      " 29  STL                    1 non-null      int64  \n",
      " 30  TOV                    1 non-null      int64  \n",
      " 31  BLK                    1 non-null      int64  \n",
      " 32  PTS                    1 non-null      int64  \n",
      " 33  PTS_RANK               1 non-null      int64  \n",
      "dtypes: float64(5), int64(25), object(4)\n",
      "memory usage: 280.0+ bytes\n"
     ]
    }
   ],
   "source": [
    "lal_team_stats_2024.info()"
   ]
  },
  {
   "cell_type": "markdown",
   "metadata": {},
   "source": [
    "find out what pts rank is: rank of pts per game"
   ]
  },
  {
   "cell_type": "markdown",
   "metadata": {},
   "source": [
    "Now we make the pipleline to run the season avg stats for the Lakers, so I can use the new averages for each game prediction"
   ]
  },
  {
   "cell_type": "code",
   "execution_count": 29,
   "metadata": {},
   "outputs": [],
   "source": [
    "from sklearn.base import BaseEstimator, TransformerMixin\n",
    "class InitialDropper(BaseEstimator, TransformerMixin):\n",
    "\n",
    "    def fit(self, X, y=None):\n",
    "        return self\n",
    "\n",
    "    def transform(self, X):\n",
    "        return X.drop(['TEAM_ID', 'TEAM_CITY','YEAR','GP', 'TEAM_NAME', 'WINS', 'LOSSES', 'WIN_PCT', 'CONF_RANK', 'DIV_RANK', 'PO_WINS', 'PO_LOSSES','CONF_COUNT','DIV_COUNT','NBA_FINALS_APPEARANCE', 'PTS_RANK'], axis=1)\n",
    "    \n",
    "    "
   ]
  },
  {
   "cell_type": "code",
   "execution_count": 30,
   "metadata": {},
   "outputs": [],
   "source": [
    "class Conversion(BaseEstimator, TransformerMixin):\n",
    "\n",
    "    def fit(self, X, y=None):\n",
    "        return self\n",
    "    \n",
    "    def transform(self, X):\n",
    "        X['FGM'] = X['FGM'] / len(lal_games_ranked)\n",
    "        X['FGA'] = X['FGA'] / len(lal_games_ranked)\n",
    "        X['FG3M'] = X['FG3M'] / len(lal_games_ranked)\n",
    "        X['FG3A'] = X['FG3A'] / len(lal_games_ranked)\n",
    "        X['FTM'] = X['FTM'] / len(lal_games_ranked)\n",
    "        X['FTA'] = X['FTA'] / len(lal_games_ranked)\n",
    "        X['OREB'] = X['OREB'] / len(lal_games_ranked)\n",
    "        X['DREB'] = X['DREB'] / len(lal_games_ranked)\n",
    "        X['REB'] = X['REB'] / len(lal_games_ranked)\n",
    "        X['AST'] = X['AST'] / len(lal_games_ranked)\n",
    "        X['STL'] = X['STL'] / len(lal_games_ranked)\n",
    "        X['BLK'] = X['BLK'] / len(lal_games_ranked)\n",
    "        X['TOV'] = X['TOV'] / len(lal_games_ranked)\n",
    "        X['PF'] = X['PF'] / len(lal_games_ranked)\n",
    "        X['PTS'] = X['PTS'] / len(lal_games_ranked)\n",
    "\n",
    "        return X"
   ]
  },
  {
   "cell_type": "code",
   "execution_count": 31,
   "metadata": {},
   "outputs": [],
   "source": [
    "from sklearn.pipeline import Pipeline\n",
    "\n",
    "pipeline = Pipeline([(\"initialdropper\", InitialDropper()),\n",
    "                     (\"conversion\", Conversion())])"
   ]
  },
  {
   "cell_type": "code",
   "execution_count": 32,
   "metadata": {},
   "outputs": [],
   "source": [
    "avg_lal_game = pipeline.fit_transform(lal_team_stats_2024)"
   ]
  },
  {
   "cell_type": "code",
   "execution_count": 33,
   "metadata": {},
   "outputs": [
    {
     "data": {
      "text/html": [
       "<div>\n",
       "<style scoped>\n",
       "    .dataframe tbody tr th:only-of-type {\n",
       "        vertical-align: middle;\n",
       "    }\n",
       "\n",
       "    .dataframe tbody tr th {\n",
       "        vertical-align: top;\n",
       "    }\n",
       "\n",
       "    .dataframe thead th {\n",
       "        text-align: right;\n",
       "    }\n",
       "</style>\n",
       "<table border=\"1\" class=\"dataframe\">\n",
       "  <thead>\n",
       "    <tr style=\"text-align: right;\">\n",
       "      <th></th>\n",
       "      <th>FGM</th>\n",
       "      <th>FGA</th>\n",
       "      <th>FG_PCT</th>\n",
       "      <th>FG3M</th>\n",
       "      <th>FG3A</th>\n",
       "      <th>FG3_PCT</th>\n",
       "      <th>FTM</th>\n",
       "      <th>FTA</th>\n",
       "      <th>FT_PCT</th>\n",
       "      <th>OREB</th>\n",
       "      <th>DREB</th>\n",
       "      <th>REB</th>\n",
       "      <th>AST</th>\n",
       "      <th>PF</th>\n",
       "      <th>STL</th>\n",
       "      <th>TOV</th>\n",
       "      <th>BLK</th>\n",
       "      <th>PTS</th>\n",
       "    </tr>\n",
       "  </thead>\n",
       "  <tbody>\n",
       "    <tr>\n",
       "      <th>75</th>\n",
       "      <td>43.0</td>\n",
       "      <td>87.461538</td>\n",
       "      <td>0.492</td>\n",
       "      <td>11.269231</td>\n",
       "      <td>30.730769</td>\n",
       "      <td>0.367</td>\n",
       "      <td>18.961538</td>\n",
       "      <td>24.557692</td>\n",
       "      <td>0.772</td>\n",
       "      <td>8.307692</td>\n",
       "      <td>34.692308</td>\n",
       "      <td>43.0</td>\n",
       "      <td>28.288462</td>\n",
       "      <td>16.423077</td>\n",
       "      <td>7.865385</td>\n",
       "      <td>14.057692</td>\n",
       "      <td>5.5</td>\n",
       "      <td>116.230769</td>\n",
       "    </tr>\n",
       "  </tbody>\n",
       "</table>\n",
       "</div>"
      ],
      "text/plain": [
       "     FGM        FGA  FG_PCT       FG3M       FG3A  FG3_PCT        FTM  \\\n",
       "75  43.0  87.461538   0.492  11.269231  30.730769    0.367  18.961538   \n",
       "\n",
       "          FTA  FT_PCT      OREB       DREB   REB        AST         PF  \\\n",
       "75  24.557692   0.772  8.307692  34.692308  43.0  28.288462  16.423077   \n",
       "\n",
       "         STL        TOV  BLK         PTS  \n",
       "75  7.865385  14.057692  5.5  116.230769  "
      ]
     },
     "execution_count": 33,
     "metadata": {},
     "output_type": "execute_result"
    }
   ],
   "source": [
    "avg_lal_game"
   ]
  },
  {
   "cell_type": "markdown",
   "metadata": {},
   "source": [
    "# Train Test Split & Scaler"
   ]
  },
  {
   "cell_type": "code",
   "execution_count": 34,
   "metadata": {
    "tags": [
     "#skip"
    ]
   },
   "outputs": [
    {
     "name": "stdout",
     "output_type": "stream",
     "text": [
      "Couldn't find program: 'echo'\n"
     ]
    }
   ],
   "source": [
    "%%script echo skipping\n",
    "from sklearn.model_selection import train_test_split\n",
    "\n",
    "X = lal_games_ranked.drop(['WL'], axis=1)\n",
    "y = lal_games_ranked['WL']\n",
    "\n",
    "X_train, X_test, y_train, y_test = train_test_split(X, y, random_state=42, test_size=0.2)"
   ]
  },
  {
   "cell_type": "code",
   "execution_count": 35,
   "metadata": {
    "tags": [
     "#skip"
    ]
   },
   "outputs": [
    {
     "name": "stdout",
     "output_type": "stream",
     "text": [
      "Couldn't find program: 'echo'\n"
     ]
    }
   ],
   "source": [
    "%%script echo skipping\n",
    "from sklearn.preprocessing import StandardScaler\n",
    "\n",
    "scaler = StandardScaler()\n",
    "\n",
    "X_train = scaler.fit_transform(X_train)\n",
    "X_test = scaler.fit_transform(X_test)"
   ]
  },
  {
   "cell_type": "markdown",
   "metadata": {},
   "source": [
    "# Model Training & Score"
   ]
  },
  {
   "cell_type": "code",
   "execution_count": 36,
   "metadata": {
    "tags": [
     "#skip"
    ]
   },
   "outputs": [
    {
     "name": "stdout",
     "output_type": "stream",
     "text": [
      "Couldn't find program: 'echo'\n"
     ]
    }
   ],
   "source": [
    "%%script echo skipping\n",
    "from sklearn.ensemble import RandomForestClassifier\n",
    "\n",
    "clf = RandomForestClassifier()\n",
    "\n",
    "clf.fit(X_train, y_train)"
   ]
  },
  {
   "cell_type": "code",
   "execution_count": 37,
   "metadata": {
    "tags": [
     "#skip"
    ]
   },
   "outputs": [
    {
     "name": "stdout",
     "output_type": "stream",
     "text": [
      "Couldn't find program: 'echo'\n"
     ]
    }
   ],
   "source": [
    "%%script echo skipping\n",
    "from sklearn.metrics import accuracy_score\n",
    "y_pred = clf.predict(X_test)\n",
    "print(\"Accuracy:\", accuracy_score(y_test, y_pred))\n"
   ]
  },
  {
   "cell_type": "markdown",
   "metadata": {},
   "source": [
    "# Train with Whole Season"
   ]
  },
  {
   "cell_type": "code",
   "execution_count": 38,
   "metadata": {
    "tags": [
     "#skip"
    ]
   },
   "outputs": [
    {
     "name": "stdout",
     "output_type": "stream",
     "text": [
      "Couldn't find program: 'echo'\n"
     ]
    }
   ],
   "source": [
    "%%script echo skipping\n",
    "X_train = lal_games_ranked.drop(['WL'], axis=1)\n",
    "y_train = lal_games_ranked['WL']\n",
    "\n",
    "X_test = avg_lal_game\n",
    "\n",
    "X_train = scaler.fit_transform(X_train)\n",
    "X_test = scaler.fit_transform(X_test)"
   ]
  },
  {
   "cell_type": "code",
   "execution_count": 39,
   "metadata": {
    "tags": [
     "#skip"
    ]
   },
   "outputs": [
    {
     "name": "stdout",
     "output_type": "stream",
     "text": [
      "Couldn't find program: 'echo'\n"
     ]
    }
   ],
   "source": [
    "%%script echo skipping\n",
    "from sklearn.ensemble import RandomForestClassifier\n",
    "clf = RandomForestClassifier()\n",
    "clf.fit(X_train, y_train)"
   ]
  },
  {
   "cell_type": "markdown",
   "metadata": {},
   "source": [
    "# Game Prediction"
   ]
  },
  {
   "cell_type": "code",
   "execution_count": 40,
   "metadata": {},
   "outputs": [
    {
     "name": "stdout",
     "output_type": "stream",
     "text": [
      "Opponent Rank: 27\n"
     ]
    }
   ],
   "source": [
    "from sklearn.preprocessing import StandardScaler\n",
    "scaler = StandardScaler()\n",
    "\n",
    "opponent = 'CHA'\n",
    "avg_lal_game['Rank'] = league_rank_df.loc[league_rank_df['TEAM_ABBREVIATION'] == opponent, 'Rank'].iloc[0]\n",
    "\n",
    "X_test = avg_lal_game\n",
    "X_test = scaler.fit_transform(X_test)\n",
    "print(\"Opponent Rank:\", avg_lal_game['Rank'].to_string(index=False))"
   ]
  },
  {
   "cell_type": "code",
   "execution_count": 41,
   "metadata": {},
   "outputs": [],
   "source": [
    "import pickle\n",
    "Lakers_Predictor = 'Lakers_Predictor.pkl'\n",
    "clf = pickle.load(open(Lakers_Predictor, 'rb'))"
   ]
  },
  {
   "cell_type": "code",
   "execution_count": 42,
   "metadata": {},
   "outputs": [],
   "source": [
    "prediction = clf.predict(X_test)"
   ]
  },
  {
   "cell_type": "code",
   "execution_count": 43,
   "metadata": {},
   "outputs": [
    {
     "name": "stdout",
     "output_type": "stream",
     "text": [
      "The Lakers Will Win!\n"
     ]
    }
   ],
   "source": [
    "if prediction[0] == 'W':\n",
    "    print(\"The Lakers Will Win!\")\n",
    "elif prediction[0] == 'L':\n",
    "    print(\"The Lakers Will Lose. :(\")\n",
    "else:\n",
    "    print(\"ERROR!\")\n"
   ]
  },
  {
   "cell_type": "markdown",
   "metadata": {},
   "source": [
    "# Save the Model"
   ]
  },
  {
   "cell_type": "code",
   "execution_count": 44,
   "metadata": {},
   "outputs": [],
   "source": [
    "model = clf\n",
    "Lakers_Predictor = 'Lakers_Predictor.pkl'\n",
    "pickle.dump(model, open(Lakers_Predictor, 'wb'))"
   ]
  }
 ],
 "metadata": {
  "kernelspec": {
   "display_name": "Python 3",
   "language": "python",
   "name": "python3"
  },
  "language_info": {
   "codemirror_mode": {
    "name": "ipython",
    "version": 3
   },
   "file_extension": ".py",
   "mimetype": "text/x-python",
   "name": "python",
   "nbconvert_exporter": "python",
   "pygments_lexer": "ipython3",
   "version": "3.11.5"
  }
 },
 "nbformat": 4,
 "nbformat_minor": 2
}
